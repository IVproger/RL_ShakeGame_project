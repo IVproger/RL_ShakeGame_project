{
 "cells": [
  {
   "cell_type": "code",
   "execution_count": 1,
   "metadata": {},
   "outputs": [],
   "source": [
    "import numpy as np\n",
    "import gymnasium as gym\n",
    "from gymnasium import spaces\n",
    "import random\n",
    "import torch\n",
    "import torch.nn as nn\n",
    "import torch.optim as optim\n",
    "from tqdm import tqdm\n",
    "from SnakeEnv import SnakeEnv"
   ]
  },
  {
   "cell_type": "code",
   "execution_count": 3,
   "metadata": {},
   "outputs": [],
   "source": [
    "class ActorCritic(nn.Module):\n",
    "    def __init__(self, input_dim, action_dim):\n",
    "        super(ActorCritic, self).__init__()\n",
    "        self.fc1 = nn.Linear(input_dim, 128)\n",
    "        self.fc2 = nn.Linear(128, 128)\n",
    "        self.actor = nn.Linear(128, action_dim)\n",
    "        self.critic = nn.Linear(128, 1)\n",
    "\n",
    "    def forward(self, x):\n",
    "        x = torch.relu(self.fc1(x))\n",
    "        x = torch.relu(self.fc2(x))\n",
    "        policy_logits = self.actor(x)\n",
    "        value = self.critic(x)\n",
    "        return policy_logits, value\n",
    "\n",
    "# Actor-Critic Agent\n",
    "class ActorCriticAgent:\n",
    "    def __init__(self, env, learning_rate=0.001, gamma=0.99):\n",
    "        self.env = env\n",
    "        self.gamma = gamma\n",
    "        self.device = torch.device(\"cuda\" if torch.cuda.is_available() else \"cpu\")\n",
    "        self.model = ActorCritic(env.observation_space.shape[0] * env.observation_space.shape[1] * env.observation_space.shape[2], env.action_space.n).to(self.device)\n",
    "        self.optimizer = optim.Adam(self.model.parameters(), lr=learning_rate)\n",
    "\n",
    "    def choose_action(self, state):\n",
    "        state = torch.tensor(state, dtype=torch.float32).to(self.device)\n",
    "        policy_logits, _ = self.model(state)\n",
    "        policy = torch.softmax(policy_logits, dim=-1)\n",
    "        action = torch.multinomial(policy, 1).item()\n",
    "        return action\n",
    "\n",
    "    def train(self, num_episodes):\n",
    "        for episode in tqdm(range(num_episodes), desc='Training', unit='Episode'):\n",
    "            state = self.env.reset()\n",
    "            state = state.flatten()\n",
    "            done = False\n",
    "            while not done:\n",
    "                action = self.choose_action(state)\n",
    "                next_state, reward, done, _ = self.env.step(action)\n",
    "                next_state = next_state.flatten()\n",
    "\n",
    "                state_tensor = torch.tensor(state, dtype=torch.float32).to(self.device)\n",
    "                next_state_tensor = torch.tensor(next_state, dtype=torch.float32).to(self.device)\n",
    "                reward_tensor = torch.tensor(reward, dtype=torch.float32).to(self.device)\n",
    "                done_tensor = torch.tensor(done, dtype=torch.float32).to(self.device)\n",
    "\n",
    "                policy_logits, value = self.model(state_tensor)\n",
    "                _, next_value = self.model(next_state_tensor)\n",
    "\n",
    "                advantage = reward_tensor + (1 - done_tensor) * self.gamma * next_value - value\n",
    "                actor_loss = -torch.log(torch.softmax(policy_logits, dim=-1)[action]) * advantage\n",
    "                critic_loss = advantage.pow(2)\n",
    "\n",
    "                loss = actor_loss + critic_loss\n",
    "\n",
    "                self.optimizer.zero_grad()\n",
    "                loss.backward()\n",
    "                self.optimizer.step()\n",
    "\n",
    "                state = next_state"
   ]
  },
  {
   "cell_type": "code",
   "execution_count": 6,
   "metadata": {},
   "outputs": [
    {
     "name": "stderr",
     "output_type": "stream",
     "text": [
      "Training: 100%|██████████| 10000/10000 [01:02<00:00, 161.10Episode/s]\n"
     ]
    }
   ],
   "source": [
    "env = SnakeEnv(grid_size=5)\n",
    "agent = ActorCriticAgent(env)\n",
    "agent.train(num_episodes=10000)"
   ]
  },
  {
   "cell_type": "code",
   "execution_count": 7,
   "metadata": {},
   "outputs": [
    {
     "name": "stdout",
     "output_type": "stream",
     "text": [
      ". . . . . \n",
      ". . . . . \n",
      ". . . S . \n",
      ". . . . . \n",
      ". . F . . \n",
      "Reward: -1\n",
      ". . . . . \n",
      ". . . . . \n",
      ". . . . S \n",
      ". . . . . \n",
      ". . F . . \n",
      "Reward: -1\n",
      ". . . . . \n",
      ". . . . . \n",
      ". . . . S \n",
      ". . . . . \n",
      ". . F . . \n",
      "Reward: -10\n"
     ]
    }
   ],
   "source": [
    "state = env.reset()\n",
    "done = False\n",
    "while not done:\n",
    "    action = agent.choose_action(state.flatten())\n",
    "    state, reward, done, _ = env.step(action)\n",
    "    env.render()\n",
    "    print(f\"Reward: {reward}\")"
   ]
  },
  {
   "cell_type": "code",
   "execution_count": null,
   "metadata": {},
   "outputs": [],
   "source": []
  }
 ],
 "metadata": {
  "kernelspec": {
   "display_name": ".venv",
   "language": "python",
   "name": "python3"
  },
  "language_info": {
   "codemirror_mode": {
    "name": "ipython",
    "version": 3
   },
   "file_extension": ".py",
   "mimetype": "text/x-python",
   "name": "python",
   "nbconvert_exporter": "python",
   "pygments_lexer": "ipython3",
   "version": "3.12.7"
  }
 },
 "nbformat": 4,
 "nbformat_minor": 2
}
