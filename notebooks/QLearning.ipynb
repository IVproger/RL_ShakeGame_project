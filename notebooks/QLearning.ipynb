{
 "cells": [
  {
   "cell_type": "code",
   "execution_count": 1,
   "metadata": {},
   "outputs": [],
   "source": [
    "from SnakeEnv import SnakeEnv\n",
    "import numpy as np\n",
    "import random\n",
    "from collections import defaultdict\n",
    "from tqdm import tqdm"
   ]
  },
  {
   "cell_type": "code",
   "execution_count": 2,
   "metadata": {},
   "outputs": [],
   "source": [
    "class QLearningAgent:\n",
    "    def __init__(self, env, learning_rate=0.1, discount_factor=0.99, epsilon=0.1):\n",
    "        self.env = env\n",
    "        self.learning_rate = learning_rate\n",
    "        self.discount_factor = discount_factor\n",
    "        self.epsilon = epsilon\n",
    "        self.q_table = defaultdict(lambda: np.zeros(env.action_space.n))\n",
    "\n",
    "    def choose_action(self, state):\n",
    "        if random.uniform(0, 1) < self.epsilon:\n",
    "            return self.env.action_space.sample()  # Explore\n",
    "        else:\n",
    "            return np.argmax(self.q_table[state])  # Exploit\n",
    "\n",
    "    def update_q_value(self, state, action, reward, next_state):\n",
    "        best_next_action = np.argmax(self.q_table[next_state])\n",
    "        td_target = reward + self.discount_factor * self.q_table[next_state][best_next_action]\n",
    "        td_error = td_target - self.q_table[state][action]\n",
    "        self.q_table[state][action] += self.learning_rate * td_error\n",
    "\n",
    "    def train(self, num_episodes):\n",
    "        for episode in tqdm(range(num_episodes), desc='Training', unit='Episode'):\n",
    "            state = self.env.reset()\n",
    "            state = tuple(state.flatten())  # Convert state to a tuple for dictionary key\n",
    "            done = False\n",
    "            while not done:\n",
    "                action = self.choose_action(state)\n",
    "                next_state, reward, done, _ = self.env.step(action)\n",
    "                next_state = tuple(next_state.flatten())  # Convert state to a tuple for dictionary key\n",
    "                self.update_q_value(state, action, reward, next_state)\n",
    "                state = next_state"
   ]
  },
  {
   "cell_type": "code",
   "execution_count": 7,
   "metadata": {},
   "outputs": [
    {
     "name": "stderr",
     "output_type": "stream",
     "text": [
      "Training: 100%|██████████| 10000/10000 [00:01<00:00, 6559.65Episode/s]\n"
     ]
    }
   ],
   "source": [
    "env = SnakeEnv(grid_size=5)\n",
    "agent = QLearningAgent(env)\n",
    "agent.train(num_episodes=10000)"
   ]
  },
  {
   "cell_type": "code",
   "execution_count": 8,
   "metadata": {},
   "outputs": [
    {
     "name": "stdout",
     "output_type": "stream",
     "text": [
      ". . . . . \n",
      ". . . . . \n",
      ". . . . . \n",
      ". . S . . \n",
      "F . . . . \n",
      "Reward: 1\n",
      ". . . . . \n",
      ". . . . . \n",
      ". . . . . \n",
      ". S . . . \n",
      "F . . . . \n",
      "Reward: 1\n",
      ". . . . . \n",
      ". . . . . \n",
      ". . . . . \n",
      "S . . . . \n",
      "F . . . . \n",
      "Reward: 1\n",
      ". . . . . \n",
      ". . . . . \n",
      ". F . . . \n",
      "S . . . . \n",
      "S . . . . \n",
      "Reward: 2\n",
      ". . . . . \n",
      ". . . . . \n",
      ". F . . . \n",
      ". . . . . \n",
      "S S . . . \n",
      "Reward: -2\n",
      ". . . . . \n",
      ". . . . . \n",
      ". F . . . \n",
      ". . . . . \n",
      ". S S . . \n",
      "Reward: -1\n",
      ". . . . . \n",
      ". . . . . \n",
      ". F . . . \n",
      ". . . . . \n",
      ". S S . . \n",
      "Reward: -1\n"
     ]
    }
   ],
   "source": [
    "state = env.reset()\n",
    "done = False\n",
    "while not done:\n",
    "    action = agent.choose_action(tuple(state.flatten()))\n",
    "    state, reward, done, _ = env.step(action)\n",
    "    env.render()\n",
    "    print(f\"Reward: {reward}\")"
   ]
  },
  {
   "cell_type": "code",
   "execution_count": null,
   "metadata": {},
   "outputs": [],
   "source": []
  }
 ],
 "metadata": {
  "kernelspec": {
   "display_name": ".venv",
   "language": "python",
   "name": "python3"
  },
  "language_info": {
   "codemirror_mode": {
    "name": "ipython",
    "version": 3
   },
   "file_extension": ".py",
   "mimetype": "text/x-python",
   "name": "python",
   "nbconvert_exporter": "python",
   "pygments_lexer": "ipython3",
   "version": "3.12.7"
  }
 },
 "nbformat": 4,
 "nbformat_minor": 2
}
