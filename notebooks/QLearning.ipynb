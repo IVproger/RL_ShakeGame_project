{
 "cells": [
  {
   "cell_type": "code",
   "execution_count": 67,
   "metadata": {},
   "outputs": [],
   "source": [
    "# from SnakeEnv import SnakeEnv\n",
    "from SimpleSnakeEnv import SimpleSnakeEnv\n",
    "import numpy as np\n",
    "import random\n",
    "from collections import defaultdict\n",
    "from tqdm import tqdm\n",
    "import pickle\n",
    "# allow to import modules from the project root directory\n",
    "import sys\n",
    "import os\n",
    "\n",
    "# Add the project root directory to sys.path\n",
    "sys.path.append(os.path.abspath(os.path.join(os.getcwd(), '..')))\n",
    "\n",
    "from src.CustomSnakeEnv import SnakeEnv"
   ]
  },
  {
   "cell_type": "markdown",
   "metadata": {},
   "source": [
    "<img src=\"images/Qlearning.png\" alt=\"Badminton Racket and Shuttles\" width=\"1000\" />"
   ]
  },
  {
   "cell_type": "code",
   "execution_count": null,
   "metadata": {},
   "outputs": [],
   "source": [
    "class QLearningAgent:\n",
    "    def __init__(self, env, learning_rate=0.5, discount_factor=0.99, epsilon=0.1):\n",
    "        self.env = env\n",
    "        self.learning_rate = learning_rate\n",
    "        self.discount_factor = discount_factor\n",
    "        self.epsilon = epsilon\n",
    "        self.q_table = defaultdict(lambda: np.zeros(env.action_space.n))\n",
    "\n",
    "    def choose_action(self, state, Greedy=False):\n",
    "        if Greedy:\n",
    "            return np.argmax(self.q_table[state])\n",
    "        if random.uniform(0, 1) < self.epsilon:\n",
    "            return self.env.action_space.sample()  # Explore\n",
    "        else:\n",
    "            return np.argmax(self.q_table[state])  # Exploit\n",
    "\n",
    "    def update_q_value(self, state, action, reward, next_state):\n",
    "        next_action = self.choose_action(next_state, Greedy=False)  # Choose next action using epsilon-greedy approach\n",
    "        td_target = reward + self.discount_factor * self.q_table[next_state][next_action]\n",
    "        td_error = td_target - self.q_table[state][action]\n",
    "        self.q_table[state][action] += self.learning_rate * td_error\n",
    "\n",
    "    def print_qtable(self):\n",
    "        for state, actions in self.q_table.items():\n",
    "            print(f\"State: {state}\")\n",
    "            for action, value in enumerate(actions):\n",
    "                print(f\"  Action {action}: {value:.2f}\")\n",
    "            print()\n",
    "\n",
    "    def train(self, num_episodes):\n",
    "        for episode in tqdm(range(num_episodes), desc='Training', unit='Episode'):\n",
    "            state = self.env.reset()\n",
    "            state = tuple(state.flatten())  # Convert state to a tuple for dictionary key\n",
    "            done = False\n",
    "            while not done:\n",
    "                action = self.choose_action(state)\n",
    "                next_state, reward, done, _ = self.env.step(action)\n",
    "                next_state = tuple(next_state.flatten())  # Convert state to a tuple for dictionary key\n",
    "                self.update_q_value(state, action, reward, next_state)\n",
    "                state = next_state"
   ]
  },
  {
   "cell_type": "code",
   "execution_count": 63,
   "metadata": {},
   "outputs": [],
   "source": [
    "env = SimpleSnakeEnv(grid_size=10)\n",
    "agent = QLearningAgent(env, epsilon=0.01)"
   ]
  },
  {
   "cell_type": "code",
   "execution_count": null,
   "metadata": {},
   "outputs": [],
   "source": [
    "# Load the Q-table\n",
    "# with open('q_learning_agent.pkl', 'rb') as f:\n",
    "#     agent.q_table = defaultdict(lambda: np.zeros(env.action_space.n), pickle.load(f))"
   ]
  },
  {
   "cell_type": "code",
   "execution_count": 5,
   "metadata": {},
   "outputs": [],
   "source": [
    "# with open('q_learning_agent.pkl', 'wb') as f:\n",
    "#         pickle.dump(dict(agent.q_table), f)"
   ]
  },
  {
   "cell_type": "code",
   "execution_count": 64,
   "metadata": {},
   "outputs": [
    {
     "name": "stderr",
     "output_type": "stream",
     "text": [
      "Training:   1%|▏         | 137937/10000000 [03:08<3:44:25, 732.40Episode/s] \n"
     ]
    },
    {
     "ename": "KeyboardInterrupt",
     "evalue": "",
     "output_type": "error",
     "traceback": [
      "\u001b[0;31m---------------------------------------------------------------------------\u001b[0m",
      "\u001b[0;31mKeyboardInterrupt\u001b[0m                         Traceback (most recent call last)",
      "Cell \u001b[0;32mIn[64], line 1\u001b[0m\n\u001b[0;32m----> 1\u001b[0m \u001b[43magent\u001b[49m\u001b[38;5;241;43m.\u001b[39;49m\u001b[43mtrain\u001b[49m\u001b[43m(\u001b[49m\u001b[43mnum_episodes\u001b[49m\u001b[38;5;241;43m=\u001b[39;49m\u001b[38;5;241;43m10000000\u001b[39;49m\u001b[43m)\u001b[49m\n",
      "Cell \u001b[0;32mIn[62], line 35\u001b[0m, in \u001b[0;36mQLearningAgent.train\u001b[0;34m(self, num_episodes)\u001b[0m\n\u001b[1;32m     33\u001b[0m state \u001b[38;5;241m=\u001b[39m \u001b[38;5;28mtuple\u001b[39m(state\u001b[38;5;241m.\u001b[39mflatten())  \u001b[38;5;66;03m# Convert state to a tuple for dictionary key\u001b[39;00m\n\u001b[1;32m     34\u001b[0m done \u001b[38;5;241m=\u001b[39m \u001b[38;5;28;01mFalse\u001b[39;00m\n\u001b[0;32m---> 35\u001b[0m \u001b[38;5;28;01mwhile\u001b[39;00m \u001b[38;5;129;01mnot\u001b[39;00m done:\n\u001b[1;32m     36\u001b[0m     action \u001b[38;5;241m=\u001b[39m \u001b[38;5;28mself\u001b[39m\u001b[38;5;241m.\u001b[39mchoose_action(state)\n\u001b[1;32m     37\u001b[0m     next_state, reward, done, _ \u001b[38;5;241m=\u001b[39m \u001b[38;5;28mself\u001b[39m\u001b[38;5;241m.\u001b[39menv\u001b[38;5;241m.\u001b[39mstep(action)\n",
      "\u001b[0;31mKeyboardInterrupt\u001b[0m: "
     ]
    }
   ],
   "source": [
    "agent.train(num_episodes=10000000)"
   ]
  },
  {
   "cell_type": "code",
   "execution_count": 50,
   "metadata": {},
   "outputs": [],
   "source": [
    "agent.epsilon = 0.01"
   ]
  },
  {
   "cell_type": "code",
   "execution_count": null,
   "metadata": {},
   "outputs": [
    {
     "ename": "KeyError",
     "evalue": "(-1, 0)",
     "output_type": "error",
     "traceback": [
      "\u001b[0;31m---------------------------------------------------------------------------\u001b[0m",
      "\u001b[0;31mKeyError\u001b[0m                                  Traceback (most recent call last)",
      "Cell \u001b[0;32mIn[68], line 6\u001b[0m\n\u001b[1;32m      4\u001b[0m \u001b[38;5;28;01mwhile\u001b[39;00m \u001b[38;5;129;01mnot\u001b[39;00m done:\n\u001b[1;32m      5\u001b[0m     action \u001b[38;5;241m=\u001b[39m agent\u001b[38;5;241m.\u001b[39mchoose_action(\u001b[38;5;28mtuple\u001b[39m(state\u001b[38;5;241m.\u001b[39mflatten()))\n\u001b[0;32m----> 6\u001b[0m     state, reward, done, _ \u001b[38;5;241m=\u001b[39m \u001b[43menv\u001b[49m\u001b[38;5;241;43m.\u001b[39;49m\u001b[43mstep\u001b[49m\u001b[43m(\u001b[49m\u001b[43maction\u001b[49m\u001b[43m)\u001b[49m\n\u001b[1;32m      7\u001b[0m     env\u001b[38;5;241m.\u001b[39mrender()\n\u001b[1;32m      8\u001b[0m     \u001b[38;5;28mprint\u001b[39m(\u001b[38;5;124mf\u001b[39m\u001b[38;5;124m\"\u001b[39m\u001b[38;5;124mReward: \u001b[39m\u001b[38;5;132;01m{\u001b[39;00mreward\u001b[38;5;132;01m}\u001b[39;00m\u001b[38;5;124m\"\u001b[39m)\n",
      "File \u001b[0;32m~/5sem/RL_ShakeGame_project/src/CustomSnakeEnv.py:169\u001b[0m, in \u001b[0;36mSnakeEnv.step\u001b[0;34m(self, action)\u001b[0m\n\u001b[1;32m    166\u001b[0m     reward \u001b[38;5;241m=\u001b[39m distance_reward\n\u001b[1;32m    167\u001b[0m     \u001b[38;5;28mself\u001b[39m\u001b[38;5;241m.\u001b[39mprevious_distance \u001b[38;5;241m=\u001b[39m current_distance  \u001b[38;5;66;03m# Update the previous distance\u001b[39;00m\n\u001b[0;32m--> 169\u001b[0m \u001b[38;5;28;01mreturn\u001b[39;00m \u001b[38;5;28;43mself\u001b[39;49m\u001b[38;5;241;43m.\u001b[39;49m\u001b[43m_get_observation\u001b[49m\u001b[43m(\u001b[49m\u001b[43m)\u001b[49m, reward, \u001b[38;5;28mself\u001b[39m\u001b[38;5;241m.\u001b[39mdone, {}\n",
      "File \u001b[0;32m~/5sem/RL_ShakeGame_project/src/CustomSnakeEnv.py:72\u001b[0m, in \u001b[0;36mSnakeEnv._get_observation\u001b[0;34m(self)\u001b[0m\n\u001b[1;32m     64\u001b[0m directions \u001b[38;5;241m=\u001b[39m {\n\u001b[1;32m     65\u001b[0m     \u001b[38;5;241m0\u001b[39m: (\u001b[38;5;241m-\u001b[39m\u001b[38;5;241m1\u001b[39m, \u001b[38;5;241m0\u001b[39m),  \u001b[38;5;66;03m# Up\u001b[39;00m\n\u001b[1;32m     66\u001b[0m     \u001b[38;5;241m1\u001b[39m: (\u001b[38;5;241m0\u001b[39m, \u001b[38;5;241m1\u001b[39m),   \u001b[38;5;66;03m# Right\u001b[39;00m\n\u001b[1;32m     67\u001b[0m     \u001b[38;5;241m2\u001b[39m: (\u001b[38;5;241m1\u001b[39m, \u001b[38;5;241m0\u001b[39m),   \u001b[38;5;66;03m# Down\u001b[39;00m\n\u001b[1;32m     68\u001b[0m     \u001b[38;5;241m3\u001b[39m: (\u001b[38;5;241m0\u001b[39m, \u001b[38;5;241m-\u001b[39m\u001b[38;5;241m1\u001b[39m)   \u001b[38;5;66;03m# Left\u001b[39;00m\n\u001b[1;32m     69\u001b[0m }\n\u001b[1;32m     71\u001b[0m \u001b[38;5;66;03m# Danger detection (collision risk in each direction)\u001b[39;00m\n\u001b[0;32m---> 72\u001b[0m danger_straight \u001b[38;5;241m=\u001b[39m \u001b[38;5;28mself\u001b[39m\u001b[38;5;241m.\u001b[39m_is_danger(head_x \u001b[38;5;241m+\u001b[39m \u001b[43mdirections\u001b[49m\u001b[43m[\u001b[49m\u001b[38;5;28;43mself\u001b[39;49m\u001b[38;5;241;43m.\u001b[39;49m\u001b[43mdirection\u001b[49m\u001b[43m]\u001b[49m[\u001b[38;5;241m0\u001b[39m], head_y \u001b[38;5;241m+\u001b[39m directions[\u001b[38;5;28mself\u001b[39m\u001b[38;5;241m.\u001b[39mdirection][\u001b[38;5;241m1\u001b[39m])\n\u001b[1;32m     73\u001b[0m danger_right \u001b[38;5;241m=\u001b[39m \u001b[38;5;28mself\u001b[39m\u001b[38;5;241m.\u001b[39m_is_danger(\n\u001b[1;32m     74\u001b[0m     head_x \u001b[38;5;241m+\u001b[39m directions[(\u001b[38;5;28mself\u001b[39m\u001b[38;5;241m.\u001b[39mdirection \u001b[38;5;241m+\u001b[39m \u001b[38;5;241m1\u001b[39m) \u001b[38;5;241m%\u001b[39m \u001b[38;5;241m4\u001b[39m][\u001b[38;5;241m0\u001b[39m],\n\u001b[1;32m     75\u001b[0m     head_y \u001b[38;5;241m+\u001b[39m directions[(\u001b[38;5;28mself\u001b[39m\u001b[38;5;241m.\u001b[39mdirection \u001b[38;5;241m+\u001b[39m \u001b[38;5;241m1\u001b[39m) \u001b[38;5;241m%\u001b[39m \u001b[38;5;241m4\u001b[39m][\u001b[38;5;241m1\u001b[39m]\n\u001b[1;32m     76\u001b[0m )\n\u001b[1;32m     77\u001b[0m danger_left \u001b[38;5;241m=\u001b[39m \u001b[38;5;28mself\u001b[39m\u001b[38;5;241m.\u001b[39m_is_danger(\n\u001b[1;32m     78\u001b[0m     head_x \u001b[38;5;241m+\u001b[39m directions[(\u001b[38;5;28mself\u001b[39m\u001b[38;5;241m.\u001b[39mdirection \u001b[38;5;241m-\u001b[39m \u001b[38;5;241m1\u001b[39m) \u001b[38;5;241m%\u001b[39m \u001b[38;5;241m4\u001b[39m][\u001b[38;5;241m0\u001b[39m],\n\u001b[1;32m     79\u001b[0m     head_y \u001b[38;5;241m+\u001b[39m directions[(\u001b[38;5;28mself\u001b[39m\u001b[38;5;241m.\u001b[39mdirection \u001b[38;5;241m-\u001b[39m \u001b[38;5;241m1\u001b[39m) \u001b[38;5;241m%\u001b[39m \u001b[38;5;241m4\u001b[39m][\u001b[38;5;241m1\u001b[39m]\n\u001b[1;32m     80\u001b[0m )\n",
      "\u001b[0;31mKeyError\u001b[0m: (-1, 0)"
     ]
    },
    {
     "ename": "",
     "evalue": "",
     "output_type": "error",
     "traceback": [
      "\u001b[1;31mThe Kernel crashed while executing code in the current cell or a previous cell. \n",
      "\u001b[1;31mPlease review the code in the cell(s) to identify a possible cause of the failure. \n",
      "\u001b[1;31mClick <a href='https://aka.ms/vscodeJupyterKernelCrash'>here</a> for more info. \n",
      "\u001b[1;31mView Jupyter <a href='command:jupyter.viewOutput'>log</a> for further details."
     ]
    }
   ],
   "source": [
    "env = SnakeEnv(grid_size=10)\n",
    "state = env.reset()\n",
    "done = False\n",
    "while not done:\n",
    "    action = agent.choose_action(tuple(state.flatten()))\n",
    "    state, reward, done, _ = env.step(action)\n",
    "    env.render()\n",
    "    print(f\"Reward: {reward}\")"
   ]
  },
  {
   "cell_type": "code",
   "execution_count": null,
   "metadata": {},
   "outputs": [],
   "source": []
  },
  {
   "cell_type": "code",
   "execution_count": null,
   "metadata": {},
   "outputs": [],
   "source": []
  }
 ],
 "metadata": {
  "kernelspec": {
   "display_name": ".venv",
   "language": "python",
   "name": "python3"
  },
  "language_info": {
   "codemirror_mode": {
    "name": "ipython",
    "version": 3
   },
   "file_extension": ".py",
   "mimetype": "text/x-python",
   "name": "python",
   "nbconvert_exporter": "python",
   "pygments_lexer": "ipython3",
   "version": "3.12.7"
  }
 },
 "nbformat": 4,
 "nbformat_minor": 2
}
